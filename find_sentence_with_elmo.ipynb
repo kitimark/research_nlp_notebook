{
 "nbformat": 4,
 "nbformat_minor": 2,
 "metadata": {
  "language_info": {
   "name": "python",
   "codemirror_mode": {
    "name": "ipython",
    "version": 3
   },
   "version": "3.6.9-final"
  },
  "orig_nbformat": 2,
  "file_extension": ".py",
  "mimetype": "text/x-python",
  "name": "python",
  "npconvert_exporter": "python",
  "pygments_lexer": "ipython3",
  "version": 3,
  "kernelspec": {
   "name": "python36964bitvenvvenvf195f58a50da4fc6aefeff55803078ac",
   "display_name": "Python 3.6.9 64-bit ('venv': venv)"
  }
 },
 "cells": [
  {
   "cell_type": "code",
   "execution_count": 1,
   "metadata": {},
   "outputs": [],
   "source": [
    "import warnings\n",
    "warnings.filterwarnings('ignore')\n",
    "import pickle\n",
    "import numpy as np\n",
    "import pandas as pd\n",
    "import json\n",
    "from textblob import TextBlob\n",
    "import nltk\n",
    "from scipy import spatial\n",
    "import torch\n",
    "import spacy\n",
    "import tensorflow.compat.v1 as tf\n",
    "tf.disable_eager_execution()\n",
    "import tensorflow_hub as hub"
   ]
  },
  {
   "cell_type": "code",
   "execution_count": 2,
   "metadata": {},
   "outputs": [
    {
     "data": {
      "text/html": "<div>\n<style scoped>\n    .dataframe tbody tr th:only-of-type {\n        vertical-align: middle;\n    }\n\n    .dataframe tbody tr th {\n        vertical-align: top;\n    }\n\n    .dataframe thead th {\n        text-align: right;\n    }\n</style>\n<table border=\"1\" class=\"dataframe\">\n  <thead>\n    <tr style=\"text-align: right;\">\n      <th></th>\n      <th>data</th>\n      <th>version</th>\n    </tr>\n  </thead>\n  <tbody>\n    <tr>\n      <th>0</th>\n      <td>{'title': 'University_of_Notre_Dame', 'paragra...</td>\n      <td>1.1</td>\n    </tr>\n    <tr>\n      <th>1</th>\n      <td>{'title': 'Beyoncé', 'paragraphs': [{'context'...</td>\n      <td>1.1</td>\n    </tr>\n    <tr>\n      <th>2</th>\n      <td>{'title': 'Montana', 'paragraphs': [{'context'...</td>\n      <td>1.1</td>\n    </tr>\n    <tr>\n      <th>3</th>\n      <td>{'title': 'Genocide', 'paragraphs': [{'context...</td>\n      <td>1.1</td>\n    </tr>\n    <tr>\n      <th>4</th>\n      <td>{'title': 'Antibiotics', 'paragraphs': [{'cont...</td>\n      <td>1.1</td>\n    </tr>\n  </tbody>\n</table>\n</div>",
      "text/plain": "                                                data  version\n0  {'title': 'University_of_Notre_Dame', 'paragra...      1.1\n1  {'title': 'Beyoncé', 'paragraphs': [{'context'...      1.1\n2  {'title': 'Montana', 'paragraphs': [{'context'...      1.1\n3  {'title': 'Genocide', 'paragraphs': [{'context...      1.1\n4  {'title': 'Antibiotics', 'paragraphs': [{'cont...      1.1"
     },
     "execution_count": 2,
     "metadata": {},
     "output_type": "execute_result"
    }
   ],
   "source": [
    "# import the training dataset\n",
    "train = pd.read_json('data/squad-v1.1/train-v1.1.json')\n",
    "\n",
    "# import the validation dataset\n",
    "valid = pd.read_json('data/squad-v1.1/dev-v1.1.json')\n",
    "\n",
    "train.head(5)"
   ]
  },
  {
   "cell_type": "code",
   "execution_count": 3,
   "metadata": {},
   "outputs": [
    {
     "data": {
      "text/plain": "{'context': 'Montana i/mɒnˈtænə/ is a state in the Western region of the United States. The state\\'s name is derived from the Spanish word montaña (mountain). Montana has several nicknames, although none official, including \"Big Sky Country\" and \"The Treasure State\", and slogans that include \"Land of the Shining Mountains\" and more recently \"The Last Best Place\". Montana is ranked 4th in size, but 44th in population and 48th in population density of the 50 United States. The western third of Montana contains numerous mountain ranges. Smaller island ranges are found throughout the state. In total, 77 named ranges are part of the Rocky Mountains.',\n 'qas': [{'answers': [{'answer_start': 112,\n     'text': 'Spanish word montaña (mountain)'}],\n   'question': \"Where does the state's name come from?\",\n   'id': '5733bd9bd058e614000b6199'},\n  {'answers': [{'answer_start': 370, 'text': '4th'}],\n   'question': 'What is the states rank in size?',\n   'id': '5733bd9bd058e614000b619a'},\n  {'answers': [{'answer_start': 387, 'text': '44th'}],\n   'question': 'What is its rank in popularion?',\n   'id': '5733bd9bd058e614000b619b'},\n  {'answers': [{'answer_start': 590, 'text': '77'}],\n   'question': 'How many ranges are part of the Rocky Mountains?',\n   'id': '5733bd9bd058e614000b619c'},\n  {'answers': [{'answer_start': 103, 'text': 'from the Spanish word montaña'}],\n   'question': \"Where does the state's name come from?\",\n   'id': '5733f0e34776f41900661573'}]}"
     },
     "execution_count": 3,
     "metadata": {},
     "output_type": "execute_result"
    }
   ],
   "source": [
    "train.iloc[2,0]['paragraphs'][0]"
   ]
  },
  {
   "cell_type": "code",
   "execution_count": 4,
   "metadata": {},
   "outputs": [
    {
     "name": "stdout",
     "output_type": "stream",
     "text": "7\n['montana i/mɒnˈtænə/ is a state in the western region of the united states.', \"the state's name is derived from the spanish word montaña (mountain).\", 'montana has several nicknames, although none official, including \"big sky country\" and \"the treasure state\", and slogans that include \"land of the shining mountains\" and more recently \"the last best place\".', 'montana is ranked 4th in size, but 44th in population and 48th in population density of the 50 united states.', 'the western third of montana contains numerous mountain ranges.', 'smaller island ranges are found throughout the state.', 'in total, 77 named ranges are part of the rocky mountains.']\n"
    }
   ],
   "source": [
    "text = train.iloc[2,0]['paragraphs'][0]['context']\n",
    "\n",
    "nlp = spacy.load('en_core_web_md')\n",
    "\n",
    "# get rid of problem chars\n",
    "text = text.lower().replace('\\n', ' ').replace('\\t', ' ').replace('\\xa0', ' ')\n",
    "# a quick way of removing excess whitespace\n",
    "text = ' '.join(text.split())\n",
    "doc = nlp(text)\n",
    "\n",
    "sentences = []\n",
    "for sentence in doc.sents:\n",
    "    if len(sentence) > 1:\n",
    "        # tokenize into sentences\n",
    "        sentences.append(sentence.string.strip())\n",
    "\n",
    "print(len(sentences))\n",
    "print(sentences)\n"
   ]
  },
  {
   "cell_type": "code",
   "execution_count": 5,
   "metadata": {},
   "outputs": [],
   "source": [
    "# loading the model\n",
    "url = \"https://tfhub.dev/google/elmo/3\"\n",
    "embed = hub.Module(url, trainable=True)"
   ]
  },
  {
   "cell_type": "code",
   "execution_count": 6,
   "metadata": {},
   "outputs": [
    {
     "name": "stdout",
     "output_type": "stream",
     "text": "INFO:tensorflow:Saver not created because there are no variables in the graph to restore\nINFO:tensorflow:Saver not created because there are no variables in the graph to restore\n7\n[[ 0.40833336  0.532851    0.26350272 ... -0.23664832  0.9220655\n  -0.00500718]\n [ 0.20504235  0.18236613  0.18386517 ... -0.4490636   0.74794257\n   0.05367463]\n [ 0.21802989  0.12451639  0.10218335 ... -0.40154085  0.6026789\n   0.04383117]\n ...\n [ 0.28803018  0.57629514  0.10492004 ... -0.21173494  1.0415319\n   0.39167637]\n [ 0.4019009   0.1932592   0.18722023 ... -0.02434905  0.13864133\n  -0.08316532]\n [ 0.20220126  0.1497484   0.06251618 ... -0.2187055   0.3307815\n   0.09774988]]\n"
    }
   ],
   "source": [
    "# This tells the model to run through th 'sentences' list and return the default output (1024 dimension sentence vectors).\n",
    "\n",
    "embeddings = embed(sentences, signature='default', as_dict=True)['default']\n",
    "\n",
    "# Start a session and run ELMo to return the embeddings in variable x\n",
    "\n",
    "with tf.Session() as sess:\n",
    "    sess.run(tf.global_variables_initializer())\n",
    "    sess.run(tf.tables_initializer())\n",
    "    context = sess.run(embeddings)\n",
    "\n",
    "# Number of sentences in the context\n",
    "print(len(context))\n",
    "# Embeddings for the context\n",
    "print(context)"
   ]
  },
  {
   "cell_type": "code",
   "execution_count": 7,
   "metadata": {},
   "outputs": [
    {
     "name": "stdout",
     "output_type": "stream",
     "text": "INFO:tensorflow:Saver not created because there are no variables in the graph to restore\nINFO:tensorflow:Saver not created because there are no variables in the graph to restore\n1\n[[ 0.28262904  0.12829931 -0.0350394  ... -0.13445887  0.46168175\n   0.09416606]]\n"
    }
   ],
   "source": [
    "question = \"Where does the state's name come from?\"\n",
    "q_list = []\n",
    "q_list.append(question)\n",
    "\n",
    "embeddings = embed(q_list, signature='default', as_dict=True)['default']\n",
    "\n",
    "with tf.Session() as sess:\n",
    "    sess.run(tf.global_variables_initializer())\n",
    "    sess.run(tf.tables_initializer())\n",
    "    ques = sess.run(embeddings)\n",
    "\n",
    "print(len(ques))\n",
    "print(ques)"
   ]
  },
  {
   "cell_type": "code",
   "execution_count": 8,
   "metadata": {},
   "outputs": [
    {
     "name": "stdout",
     "output_type": "stream",
     "text": "the state's name is derived from the spanish word montaña (mountain).\n"
    }
   ],
   "source": [
    "from sklearn.metrics.pairwise import cosine_similarity\n",
    "\n",
    "score = []\n",
    "index = 0\n",
    "\n",
    "for i in context:\n",
    "    statement = []\n",
    "    statement.append(i)\n",
    "    value = cosine_similarity(ques, statement)[0][0]\n",
    "    answers = []\n",
    "    answers.append(value)\n",
    "    answers.append(index)\n",
    "    index += 1\n",
    "    score.append(answers)\n",
    "\n",
    "score.sort()\n",
    "e = score[-1][1]\n",
    "answer = sentences[e]\n",
    "print(answer)"
   ]
  },
  {
   "cell_type": "code",
   "execution_count": 9,
   "metadata": {},
   "outputs": [
    {
     "name": "stdout",
     "output_type": "stream",
     "text": "come                \n  ________|_______________    \n |    |        name       |  \n |    |         |         |   \n |    |       state      from\n |    |    _____|____     |   \ndoes  ?  the         's Where\n\n"
    },
    {
     "data": {
      "text/plain": "[None]"
     },
     "execution_count": 9,
     "metadata": {},
     "output_type": "execute_result"
    }
   ],
   "source": [
    "import nltk\n",
    "from nltk import Tree\n",
    "import spacy\n",
    "\n",
    "def to_nltk_tree(node):\n",
    "    if node.n_lefts + node.n_rights > 0:\n",
    "        return Tree(node.orth_, [to_nltk_tree(child) for child in node.children])\n",
    "    else:\n",
    "        return node.orth_\n",
    "\n",
    "en_nlp = spacy.load('en_core_web_md')\n",
    "[to_nltk_tree(sent.root).pretty_print() for sent in en_nlp(question).sents]"
   ]
  },
  {
   "cell_type": "code",
   "execution_count": 10,
   "metadata": {},
   "outputs": [
    {
     "name": "stdout",
     "output_type": "stream",
     "text": "derived                             \n  ___________________|___________                      \n |   |        |                 from                  \n |   |        |                  |                     \n |   |        |                 word                  \n |   |        |             _____|___________          \n |   |       name          |     |        montaña     \n |   |        |            |     |           |         \n |   |      state          |     |        mountain    \n |   |    ____|______      |     |      _____|______   \n is  .  the          's   the spanish  (            ) \n\n"
    },
    {
     "data": {
      "text/plain": "[None]"
     },
     "execution_count": 10,
     "metadata": {},
     "output_type": "execute_result"
    }
   ],
   "source": [
    "[to_nltk_tree(sent.root).pretty_print() for sent in en_nlp(answer).sents]"
   ]
  }
 ]
}